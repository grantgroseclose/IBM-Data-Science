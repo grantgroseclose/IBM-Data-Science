{
    "cells": [
        {
            "metadata": {
                "collapsed": true
            },
            "cell_type": "markdown",
            "source": "# My Jupyter Notebook on IBM Watson Studio"
        },
        {
            "metadata": {},
            "cell_type": "markdown",
            "source": "**Grant Groseclose**\n\nCurrent role: Data Quality Analyst"
        },
        {
            "metadata": {},
            "cell_type": "markdown",
            "source": "*I am interested in data science because of its vital importance to a functioning modern economy.*"
        },
        {
            "metadata": {},
            "cell_type": "markdown",
            "source": "### The following code returns the sum of two inputs ###"
        },
        {
            "metadata": {},
            "cell_type": "code",
            "source": "def sum(a, b):\n    return (a + b)\n\nsum(1, 1) == 2",
            "execution_count": 2,
            "outputs": [
                {
                    "output_type": "execute_result",
                    "execution_count": 2,
                    "data": {
                        "text/plain": "True"
                    },
                    "metadata": {}
                }
            ]
        },
        {
            "metadata": {},
            "cell_type": "markdown",
            "source": "* 1\n* 2\n* 3\n* 4\n* 5\n* 6\n\n1. 1\n2. 2\n3. 3\n4. 4\n5. 5\n6. 6\n\n<http://www.example.com>"
        }
    ],
    "metadata": {
        "kernelspec": {
            "name": "python3",
            "display_name": "Python 3.10",
            "language": "python"
        },
        "language_info": {
            "name": "python",
            "version": "3.10.6",
            "mimetype": "text/x-python",
            "codemirror_mode": {
                "name": "ipython",
                "version": 3
            },
            "pygments_lexer": "ipython3",
            "nbconvert_exporter": "python",
            "file_extension": ".py"
        }
    },
    "nbformat": 4,
    "nbformat_minor": 1
}